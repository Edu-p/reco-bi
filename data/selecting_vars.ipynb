{
 "cells": [
  {
   "cell_type": "code",
   "execution_count": 2,
   "id": "b88f3563",
   "metadata": {},
   "outputs": [],
   "source": [
    "import pandas as pd\n",
    "from sklearn.metrics import roc_curve"
   ]
  },
  {
   "cell_type": "markdown",
   "id": "1e2d6d7e",
   "metadata": {},
   "source": [
    "# Importing db"
   ]
  },
  {
   "cell_type": "code",
   "execution_count": 10,
   "id": "6555d1ce",
   "metadata": {},
   "outputs": [],
   "source": [
    "df_cond_full = pd.read_csv('application_data.csv')"
   ]
  },
  {
   "cell_type": "markdown",
   "id": "d6ed68dd",
   "metadata": {},
   "source": [
    "# Seleção de variáveis"
   ]
  },
  {
   "cell_type": "markdown",
   "id": "594312ed",
   "metadata": {},
   "source": [
    "## Teste de Ks\n",
    "    - No contexto de um problema com um alvo binário, o teste de KS ajuda a avaliar o poder discriminatório de diferentes variáveis preditoras, analisando a diferença máxima entre as funções de distribuição acumulada de cada variável para as duas categorias do alvo.\n",
    "    - Vamos focar nas variáveis que têm maior poder discriminatório, isto é, aquelas que apresentam um valor KS elevado. Com elas vai ser possível constuir nosso modelo final que vai ajudar a dizer a probabilidade de determinado valor de acordo ser honrado, dado o contexto do devedor. "
   ]
  },
  {
   "cell_type": "code",
   "execution_count": 12,
   "id": "bf636477",
   "metadata": {},
   "outputs": [],
   "source": [
    "vars_drop = []\n",
    "all_columns = set(df_cond_full.columns)\n",
    "columns_excluding_vars_drop = list(all_columns.difference(vars_drop + ['TARGET']))\n",
    "target_col = \"TARGET\"\n",
    "\n",
    "ks_stats = []\n",
    "\n",
    "for col in columns_excluding_vars_drop:\n",
    "    if pd.api.types.is_numeric_dtype(df_cond_full[col]):\n",
    "        fpr, tpr, thresholds = roc_curve(df_cond_full[target_col], df_cond_full[col].fillna(df_cond_full[col].mean()))\n",
    "        ks_statistic = max(tpr - fpr)\n",
    "        ks_stats.append((col, ks_statistic))\n",
    "    else:\n",
    "        ks_stats.append((col, None)) \n",
    "\n",
    "ks_stats = sorted(ks_stats, key=lambda x: x[1] if x[1] is not None else -1, reverse=True)"
   ]
  },
  {
   "cell_type": "code",
   "execution_count": 19,
   "id": "d5b61d72",
   "metadata": {},
   "outputs": [
    {
     "data": {
      "text/plain": [
       "34"
      ]
     },
     "execution_count": 19,
     "metadata": {},
     "output_type": "execute_result"
    }
   ],
   "source": [
    "filtered_cols = [col_name for col_name, corr_val in ks_stats if corr_val is not None and abs(corr_val) > 0.03]\n",
    "len(filtered_cols)"
   ]
  },
  {
   "cell_type": "code",
   "execution_count": 20,
   "id": "46bc6c8e",
   "metadata": {},
   "outputs": [
    {
     "data": {
      "text/plain": [
       "['DAYS_BIRTH',\n",
       " 'DAYS_LAST_PHONE_CHANGE',\n",
       " 'DAYS_EMPLOYED',\n",
       " 'DAYS_ID_PUBLISH',\n",
       " 'REG_CITY_NOT_WORK_CITY',\n",
       " 'FLAG_DOCUMENT_3',\n",
       " 'DAYS_REGISTRATION',\n",
       " 'FLAG_EMP_PHONE',\n",
       " 'REGION_RATING_CLIENT',\n",
       " 'REGION_RATING_CLIENT_W_CITY',\n",
       " 'OWN_CAR_AGE',\n",
       " 'AMT_REQ_CREDIT_BUREAU_YEAR',\n",
       " 'NONLIVINGAREA_MODE',\n",
       " 'NONLIVINGAREA_MEDI',\n",
       " 'NONLIVINGAREA_AVG',\n",
       " 'LIVE_CITY_NOT_WORK_CITY',\n",
       " 'REG_CITY_NOT_LIVE_CITY',\n",
       " 'AMT_REQ_CREDIT_BUREAU_DAY',\n",
       " 'FLAG_WORK_PHONE',\n",
       " 'AMT_REQ_CREDIT_BUREAU_HOUR',\n",
       " 'AMT_REQ_CREDIT_BUREAU_WEEK',\n",
       " 'DEF_30_CNT_SOCIAL_CIRCLE',\n",
       " 'NONLIVINGAPARTMENTS_MODE',\n",
       " 'NONLIVINGAPARTMENTS_MEDI',\n",
       " 'ENTRANCES_MODE',\n",
       " 'NONLIVINGAPARTMENTS_AVG',\n",
       " 'AMT_ANNUITY',\n",
       " 'CNT_CHILDREN',\n",
       " 'ENTRANCES_MEDI',\n",
       " 'ENTRANCES_AVG',\n",
       " 'APARTMENTS_MODE',\n",
       " 'DEF_60_CNT_SOCIAL_CIRCLE',\n",
       " 'APARTMENTS_MEDI',\n",
       " 'BASEMENTAREA_MODE']"
      ]
     },
     "execution_count": 20,
     "metadata": {},
     "output_type": "execute_result"
    }
   ],
   "source": [
    "filtered_cols"
   ]
  }
 ],
 "metadata": {
  "kernelspec": {
   "display_name": "Python 3 (ipykernel)",
   "language": "python",
   "name": "python3"
  },
  "language_info": {
   "codemirror_mode": {
    "name": "ipython",
    "version": 3
   },
   "file_extension": ".py",
   "mimetype": "text/x-python",
   "name": "python",
   "nbconvert_exporter": "python",
   "pygments_lexer": "ipython3",
   "version": "3.9.13"
  }
 },
 "nbformat": 4,
 "nbformat_minor": 5
}
